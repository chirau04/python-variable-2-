{
 "cells": [
  {
   "cell_type": "code",
   "execution_count": 1,
   "id": "9fec6f0c-8e29-40ff-9038-d47220557daa",
   "metadata": {},
   "outputs": [],
   "source": [
    "a =1"
   ]
  },
  {
   "cell_type": "code",
   "execution_count": 2,
   "id": "340c06eb-fb00-455a-bc4c-56bc1dbb4f78",
   "metadata": {},
   "outputs": [
    {
     "data": {
      "text/plain": [
       "1"
      ]
     },
     "execution_count": 2,
     "metadata": {},
     "output_type": "execute_result"
    }
   ],
   "source": [
    "a"
   ]
  },
  {
   "cell_type": "code",
   "execution_count": 3,
   "id": "e068c970-d390-4343-8778-6d73f5c1b68a",
   "metadata": {},
   "outputs": [
    {
     "data": {
      "text/plain": [
       "int"
      ]
     },
     "execution_count": 3,
     "metadata": {},
     "output_type": "execute_result"
    }
   ],
   "source": [
    "type(a)"
   ]
  },
  {
   "cell_type": "code",
   "execution_count": 4,
   "id": "94bcd76a-6eba-4564-a47a-b18ea4ddb717",
   "metadata": {},
   "outputs": [],
   "source": [
    "b = \"chirau\""
   ]
  },
  {
   "cell_type": "code",
   "execution_count": 5,
   "id": "30d4c7ae-3715-40ce-9f9b-1f63982b1ba8",
   "metadata": {},
   "outputs": [
    {
     "data": {
      "text/plain": [
       "str"
      ]
     },
     "execution_count": 5,
     "metadata": {},
     "output_type": "execute_result"
    }
   ],
   "source": [
    "type(b)"
   ]
  },
  {
   "cell_type": "code",
   "execution_count": 6,
   "id": "47c872a2-695d-4e57-b077-723936fc3ca5",
   "metadata": {},
   "outputs": [],
   "source": [
    "c = 45.987"
   ]
  },
  {
   "cell_type": "code",
   "execution_count": 7,
   "id": "10e89833-8724-4de1-b3f9-d18255250ad8",
   "metadata": {},
   "outputs": [
    {
     "data": {
      "text/plain": [
       "float"
      ]
     },
     "execution_count": 7,
     "metadata": {},
     "output_type": "execute_result"
    }
   ],
   "source": [
    "type(c)"
   ]
  },
  {
   "cell_type": "code",
   "execution_count": 8,
   "id": "818a683d-cc7a-4f02-9023-73c91cff2926",
   "metadata": {},
   "outputs": [],
   "source": [
    "s = -87.964"
   ]
  },
  {
   "cell_type": "code",
   "execution_count": 11,
   "id": "5cc968a1-325e-4333-b9bb-cfa3965ebf09",
   "metadata": {},
   "outputs": [
    {
     "data": {
      "text/plain": [
       "float"
      ]
     },
     "execution_count": 11,
     "metadata": {},
     "output_type": "execute_result"
    }
   ],
   "source": [
    "type (s) "
   ]
  },
  {
   "cell_type": "code",
   "execution_count": 12,
   "id": "5d5a0355-c502-4a65-bd32-68fc95c850e7",
   "metadata": {},
   "outputs": [],
   "source": [
    "chirau = 7865"
   ]
  },
  {
   "cell_type": "code",
   "execution_count": 13,
   "id": "85ca630b-e950-403e-acd8-315920784e59",
   "metadata": {},
   "outputs": [
    {
     "data": {
      "text/plain": [
       "7865"
      ]
     },
     "execution_count": 13,
     "metadata": {},
     "output_type": "execute_result"
    }
   ],
   "source": [
    "chirau"
   ]
  },
  {
   "cell_type": "code",
   "execution_count": 16,
   "id": "86c2dafe-63c7-48ab-ad34-c83d2e153961",
   "metadata": {},
   "outputs": [
    {
     "data": {
      "text/plain": [
       "int"
      ]
     },
     "execution_count": 16,
     "metadata": {},
     "output_type": "execute_result"
    }
   ],
   "source": [
    "type(chirau)"
   ]
  },
  {
   "cell_type": "code",
   "execution_count": 17,
   "id": "d58ec005-0e0e-4b0d-8a58-663686bc09e7",
   "metadata": {},
   "outputs": [],
   "source": [
    "d = True "
   ]
  },
  {
   "cell_type": "code",
   "execution_count": 18,
   "id": "a68b283d-473c-4fed-b2d4-09170f508f00",
   "metadata": {},
   "outputs": [
    {
     "data": {
      "text/plain": [
       "bool"
      ]
     },
     "execution_count": 18,
     "metadata": {},
     "output_type": "execute_result"
    }
   ],
   "source": [
    "type(d)"
   ]
  },
  {
   "cell_type": "code",
   "execution_count": 19,
   "id": "cc4be895-ffe2-4263-9ec0-eacf9c62a53a",
   "metadata": {},
   "outputs": [],
   "source": [
    "e = False"
   ]
  },
  {
   "cell_type": "code",
   "execution_count": 20,
   "id": "3adde98e-8dbf-432c-b4ea-7073f0144c75",
   "metadata": {},
   "outputs": [
    {
     "data": {
      "text/plain": [
       "bool"
      ]
     },
     "execution_count": 20,
     "metadata": {},
     "output_type": "execute_result"
    }
   ],
   "source": [
    "type(e)"
   ]
  },
  {
   "cell_type": "code",
   "execution_count": 21,
   "id": "db1f06f9-9f9f-4681-a40a-f97ee7e31074",
   "metadata": {},
   "outputs": [
    {
     "data": {
      "text/plain": [
       "1"
      ]
     },
     "execution_count": 21,
     "metadata": {},
     "output_type": "execute_result"
    }
   ],
   "source": [
    "True - False"
   ]
  },
  {
   "cell_type": "code",
   "execution_count": 22,
   "id": "34565c0b-97fd-4c96-9f0e-d9f05fa96d16",
   "metadata": {},
   "outputs": [
    {
     "data": {
      "text/plain": [
       "0"
      ]
     },
     "execution_count": 22,
     "metadata": {},
     "output_type": "execute_result"
    }
   ],
   "source": [
    "True * False"
   ]
  },
  {
   "cell_type": "code",
   "execution_count": 24,
   "id": "a8f28b45-cd00-416e-a435-d2d0d4b6d053",
   "metadata": {},
   "outputs": [
    {
     "data": {
      "text/plain": [
       "0.0"
      ]
     },
     "execution_count": 24,
     "metadata": {},
     "output_type": "execute_result"
    }
   ],
   "source": [
    "False / True "
   ]
  },
  {
   "cell_type": "code",
   "execution_count": 25,
   "id": "f554fd2f-d066-41d9-814d-3bdcfba98557",
   "metadata": {},
   "outputs": [],
   "source": [
    "c = 7+8j"
   ]
  },
  {
   "cell_type": "code",
   "execution_count": 26,
   "id": "4733db86-063b-4467-b500-2d926a2deb5c",
   "metadata": {},
   "outputs": [
    {
     "data": {
      "text/plain": [
       "complex"
      ]
     },
     "execution_count": 26,
     "metadata": {},
     "output_type": "execute_result"
    }
   ],
   "source": [
    "type (c)"
   ]
  },
  {
   "cell_type": "code",
   "execution_count": 27,
   "id": "3ca451f7-225f-4cd0-9d3a-8c453152d4f6",
   "metadata": {},
   "outputs": [],
   "source": [
    "g = 7j"
   ]
  },
  {
   "cell_type": "code",
   "execution_count": 28,
   "id": "1032ede1-2e5c-4847-979c-038067c1eb0f",
   "metadata": {},
   "outputs": [
    {
     "data": {
      "text/plain": [
       "complex"
      ]
     },
     "execution_count": 28,
     "metadata": {},
     "output_type": "execute_result"
    }
   ],
   "source": [
    "type(g)"
   ]
  },
  {
   "cell_type": "code",
   "execution_count": 29,
   "id": "d65c7b2a-fb8b-4ea8-bb39-0f241ac60a5c",
   "metadata": {},
   "outputs": [],
   "source": [
    "m = 8"
   ]
  },
  {
   "cell_type": "code",
   "execution_count": 32,
   "id": "2cbc6f4c-91bf-4651-b7dc-768e14c3bcfb",
   "metadata": {},
   "outputs": [
    {
     "data": {
      "text/plain": [
       "int"
      ]
     },
     "execution_count": 32,
     "metadata": {},
     "output_type": "execute_result"
    }
   ],
   "source": [
    "type(m)"
   ]
  },
  {
   "cell_type": "code",
   "execution_count": 33,
   "id": "77db273f-9d67-475b-aae1-fe8c086f27ba",
   "metadata": {},
   "outputs": [],
   "source": [
    "_a = 67"
   ]
  },
  {
   "cell_type": "code",
   "execution_count": 34,
   "id": "8995df71-de84-43d4-bf99-f6b2d94bb398",
   "metadata": {},
   "outputs": [
    {
     "data": {
      "text/plain": [
       "67"
      ]
     },
     "execution_count": 34,
     "metadata": {},
     "output_type": "execute_result"
    }
   ],
   "source": [
    "_a"
   ]
  },
  {
   "cell_type": "code",
   "execution_count": null,
   "id": "8004010c-3e9e-4c1e-8276-4ac32177d4e9",
   "metadata": {},
   "outputs": [],
   "source": []
  }
 ],
 "metadata": {
  "kernelspec": {
   "display_name": "Python 3 (ipykernel)",
   "language": "python",
   "name": "python3"
  },
  "language_info": {
   "codemirror_mode": {
    "name": "ipython",
    "version": 3
   },
   "file_extension": ".py",
   "mimetype": "text/x-python",
   "name": "python",
   "nbconvert_exporter": "python",
   "pygments_lexer": "ipython3",
   "version": "3.10.8"
  }
 },
 "nbformat": 4,
 "nbformat_minor": 5
}
